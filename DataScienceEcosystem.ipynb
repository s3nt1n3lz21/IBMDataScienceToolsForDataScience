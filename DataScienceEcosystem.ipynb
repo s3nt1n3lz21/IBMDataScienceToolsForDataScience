{
 "cells": [
  {
   "cell_type": "markdown",
   "id": "8e5afdee-097f-4914-acc0-264d29fb389f",
   "metadata": {},
   "source": [
    "# Data Science Tools And Exosystem"
   ]
  },
  {
   "cell_type": "markdown",
   "id": "84936937-8fa1-4a9b-800c-40c9117e34ff",
   "metadata": {},
   "source": [
    "In this notebook, Data Science Tools and Ecosystem are summarized."
   ]
  },
  {
   "cell_type": "markdown",
   "id": "679a2f5e-b140-494a-8c5d-5ec20c563f8e",
   "metadata": {},
   "source": [
    "**Objectives**\n",
    "- List popular languages for Data Science\n",
    "- List popular libraries for Data Science\n",
    "- List popular tools for Data Science"
   ]
  },
  {
   "cell_type": "markdown",
   "id": "d78cffa6-0b91-44e8-b78c-d5da16f901ca",
   "metadata": {},
   "source": [
    "Some of the popular languages that Data Scientists use are:\n",
    "- Python\n",
    "- R\n",
    "- SQL"
   ]
  },
  {
   "cell_type": "markdown",
   "id": "3a848790-ab17-4965-9700-b550aaa4c2c4",
   "metadata": {},
   "source": [
    "Some of the commonly used libraries used by Data Scientists include:\n",
    "- scikit-learn\n",
    "- tensorflow\n",
    "- pandas"
   ]
  },
  {
   "cell_type": "markdown",
   "id": "edbab637-40dc-4824-9739-9367470d4ce7",
   "metadata": {},
   "source": [
    "\n",
    "| Data Science Tools  |\n",
    "|-----------|\n",
    "| Apache Hadoop |\n",
    "| Jupyter Notebook |\n",
    "| Apache Spark |\n"
   ]
  },
  {
   "cell_type": "markdown",
   "id": "4c282d53-3e86-4ca3-8ffd-c9537adf7fa2",
   "metadata": {},
   "source": [
    "### Below are a few examples of evaluating arithmetic expressions in Python."
   ]
  },
  {
   "cell_type": "code",
   "execution_count": 3,
   "id": "d074abd1-2c42-47cb-92cb-8b79cc621376",
   "metadata": {},
   "outputs": [
    {
     "data": {
      "text/plain": [
       "17"
      ]
     },
     "execution_count": 3,
     "metadata": {},
     "output_type": "execute_result"
    }
   ],
   "source": [
    "# This a simple arithmetic expression to mutiply then add integers.\n",
    "(3*4)+5"
   ]
  },
  {
   "cell_type": "code",
   "execution_count": 4,
   "id": "75ce6c59-4913-4c96-a659-2ad349b7f6b0",
   "metadata": {},
   "outputs": [
    {
     "data": {
      "text/plain": [
       "3.3333333333333335"
      ]
     },
     "execution_count": 4,
     "metadata": {},
     "output_type": "execute_result"
    }
   ],
   "source": [
    "# This will convert 200 minutes to hours by diving by 60.\n",
    "200 / 60"
   ]
  },
  {
   "cell_type": "markdown",
   "id": "362e9520-b312-4e1f-a2af-c1c0f2d71736",
   "metadata": {},
   "source": [
    "## Author\n",
    "Neil Smith"
   ]
  },
  {
   "cell_type": "code",
   "execution_count": null,
   "id": "6a759097-7e1a-4eff-a06e-74cc91e98da4",
   "metadata": {},
   "outputs": [],
   "source": []
  }
 ],
 "metadata": {
  "kernelspec": {
   "display_name": "Python 3 (ipykernel)",
   "language": "python",
   "name": "python3"
  },
  "language_info": {
   "codemirror_mode": {
    "name": "ipython",
    "version": 3
   },
   "file_extension": ".py",
   "mimetype": "text/x-python",
   "name": "python",
   "nbconvert_exporter": "python",
   "pygments_lexer": "ipython3",
   "version": "3.12.8"
  }
 },
 "nbformat": 4,
 "nbformat_minor": 5
}
